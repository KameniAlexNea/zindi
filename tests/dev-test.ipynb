{
 "cells": [
  {
   "cell_type": "code",
   "execution_count": 1,
   "metadata": {},
   "outputs": [],
   "source": [
    "from pathlib import Path\n",
    "import sys, os\n",
    "path_root = Path( os.path.join( \"..\", \"tests\", \"dev-test.ipynb\" )  ).parents[1]\n",
    "sys.path.append(str(path_root))"
   ]
  },
  {
   "cell_type": "code",
   "execution_count": 2,
   "metadata": {},
   "outputs": [],
   "source": [
    "from zindi.user import Zindian\n"
   ]
  },
  {
   "cell_type": "code",
   "execution_count": 3,
   "metadata": {},
   "outputs": [
    {
     "name": "stdout",
     "output_type": "stream",
     "text": [
      "\n",
      "[ 🟢 ] 👋🏾👋🏾 Welcome test-000000X 👋🏾👋🏾\n",
      "\n"
     ]
    }
   ],
   "source": [
    "## FOR TEST\n",
    "USERNAME, PASSWORD = \"test-000000X\", \"test-000000X\"\n",
    "user = Zindian(username=USERNAME, fixed_password=PASSWORD)\n"
   ]
  },
  {
   "cell_type": "code",
   "execution_count": 4,
   "metadata": {},
   "outputs": [
    {
     "name": "stdout",
     "output_type": "stream",
     "text": [
      "\n",
      "[ 🔴 ] You have not yet selected any challenge.\n",
      "\n"
     ]
    }
   ],
   "source": [
    "user.which_challenge"
   ]
  },
  {
   "cell_type": "code",
   "execution_count": 5,
   "metadata": {},
   "outputs": [
    {
     "name": "stdout",
     "output_type": "stream",
     "text": [
      "\n",
      "[ 🟢 ] You choose the challenge : loan-default-prediction-challenge,\n",
      "\tTry out for a Tanzanian internship.\n",
      "\n"
     ]
    }
   ],
   "source": [
    "user.select_a_challenge(fixed_index=3) # reward=\"knowledge\" , "
   ]
  },
  {
   "cell_type": "code",
   "execution_count": 6,
   "metadata": {},
   "outputs": [
    {
     "name": "stderr",
     "output_type": "stream",
     "text": [
      "./dataset\\SampleSubmission.csv: 100%|██████████| 51.0k/51.0k [00:00<00:00, 418ko/s]\n",
      "./dataset\\testdemographics.csv: 100%|██████████| 159k/159k [00:00<00:00, 680ko/s] \n",
      "./dataset\\testperf.csv: 100%|██████████| 117k/117k [00:00<00:00, 709ko/s] \n",
      "./dataset\\trainperf.csv: 100%|██████████| 573k/573k [00:00<00:00, 1.19Mo/s]\n",
      "./dataset\\traindemographics.csv: 100%|██████████| 464k/464k [00:00<00:00, 1.02Mo/s]\n",
      "./dataset\\testprevloans.zip: 100%|██████████| 289k/289k [00:00<00:00, 805ko/s] \n",
      "./dataset\\trainprevloans.zip: 100%|██████████| 891k/891k [00:00<00:00, 1.20Mo/s]\n",
      "./dataset\\loan-default-prediction.zip: 100%|██████████| 1.55M/1.55M [00:02<00:00, 627ko/s]\n"
     ]
    }
   ],
   "source": [
    "user.download_dataset(destination=\"./dataset\")"
   ]
  },
  {
   "cell_type": "code",
   "execution_count": 7,
   "metadata": {},
   "outputs": [
    {
     "name": "stdout",
     "output_type": "stream",
     "text": [
      "\n",
      "[ 🟢 ] You are currently enrolled in : loan-default-prediction-challenge challenge,\n",
      "\tTry out for a Tanzanian internship.\n",
      "\n"
     ]
    },
    {
     "data": {
      "text/plain": [
       "'loan-default-prediction-challenge'"
      ]
     },
     "execution_count": 7,
     "metadata": {},
     "output_type": "execute_result"
    }
   ],
   "source": [
    "user.which_challenge\n"
   ]
  },
  {
   "cell_type": "code",
   "execution_count": 8,
   "metadata": {},
   "outputs": [
    {
     "name": "stdout",
     "output_type": "stream",
     "text": [
      "__________________________________________________________________________________________________________________________________\n",
      "|      |                    |                                            |            |            \n",
      "| rank |       score        |                    name                    |  counter   |last_submission\n",
      "|      |                    |                                            |            |            \n",
      "----------------------------------------------------------------------------------------------------------------------------------\n",
      "|  1   | 0.203448275862069  |                CalebEmelike                |     2      |16 April 2022, 19:28\n",
      "----------------------------------------------------------------------------------------------------------------------------------\n",
      "|  2   | 0.2041379310344828 |                 Alaeddine                  |     22     |11 April 2022, 23:29\n",
      "----------------------------------------------------------------------------------------------------------------------------------\n",
      "|  3   | 0.2048275862068966 |                Beast_Mufasa                |     65     |08 April 2022, 14:59\n",
      "----------------------------------------------------------------------------------------------------------------------------------\n",
      "|  4   | 0.2055172413793104 |                  Okite97                   |     2      |16 March 2022, 10:06\n",
      "----------------------------------------------------------------------------------------------------------------------------------\n",
      "|  5   | 0.2055172413793104 |                  tony_tz                   |     18     |16 April 2022, 15:05\n",
      "----------------------------------------------------------------------------------------------------------------------------------\n",
      "|  6   | 0.2089655172413793 |                  fikirism                  |     23     |16 April 2022, 09:58\n",
      "----------------------------------------------------------------------------------------------------------------------------------\n",
      "|  7   | 0.2096551724137931 |                 Ramsey4ML                  |     28     |02 April 2022, 02:15\n",
      "----------------------------------------------------------------------------------------------------------------------------------\n",
      "|  8   | 0.2124137931034483 |                    Jimi                    |     4      |13 April 2022, 08:56\n",
      "----------------------------------------------------------------------------------------------------------------------------------\n",
      "|  9   | 0.2124137931034483 |                 Ensembled                  |     49     |16 April 2022, 19:37\n",
      "----------------------------------------------------------------------------------------------------------------------------------\n",
      "|  10  | 0.2137931034482759 |                 ADILKhan17                 |     9      |11 April 2022, 14:15\n",
      "----------------------------------------------------------------------------------------------------------------------------------\n",
      "|  11  | 0.2151724137931035 |                  massawe                   |     15     |16 March 2022, 13:55\n",
      "----------------------------------------------------------------------------------------------------------------------------------\n",
      "|  12  | 0.2206896551724138 |               AssazzinJunior               |     24     |24 March 2022, 13:09\n",
      "----------------------------------------------------------------------------------------------------------------------------------\n",
      "|  13  | 0.2206896551724138 |                   Malesa                   |     18     |25 March 2022, 11:47\n",
      "----------------------------------------------------------------------------------------------------------------------------------\n",
      "|  14  | 0.2206896551724138 |                  MICADEE                   |     20     |16 April 2022, 21:33\n",
      "----------------------------------------------------------------------------------------------------------------------------------\n",
      "|  15  | 0.2215938697318008 |                Siwar_NASRI                 |     5      |01 April 2022, 22:26\n",
      "----------------------------------------------------------------------------------------------------------------------------------\n",
      "|  16  | 0.2220689655172414 |                  DaKozlov                  |     5      |15 March 2022, 17:04\n",
      "----------------------------------------------------------------------------------------------------------------------------------\n",
      "|  17  | 0.2220689655172414 |                    CPT                     |     19     |17 March 2022, 11:45\n",
      "----------------------------------------------------------------------------------------------------------------------------------\n",
      "|  18  | 0.2220689655172414 |                    TUX                     |     1      |21 March 2022, 21:33\n",
      "----------------------------------------------------------------------------------------------------------------------------------\n",
      "|  19  | 0.2220689655172414 |                   Hamada                   |     1      |22 March 2022, 22:34\n",
      "----------------------------------------------------------------------------------------------------------------------------------\n",
      "|  20  | 0.2220689655172414 |                 jpandeinge                 |     2      |24 March 2022, 00:58\n",
      "----------------------------------------------------------------------------------------------------------------------------------\n",
      "|  21  | 0.2220689655172414 |               Ambrose_Ikpele               |     4      |25 March 2022, 00:14\n",
      "----------------------------------------------------------------------------------------------------------------------------------\n",
      "|  22  | 0.2220689655172414 |                  BrightXO                  |     22     |30 March 2022, 20:51\n",
      "----------------------------------------------------------------------------------------------------------------------------------\n",
      "|  23  | 0.2220689655172414 |                  mathurin                  |     13     |01 April 2022, 15:24\n",
      "----------------------------------------------------------------------------------------------------------------------------------\n",
      "|  24  | 0.2220689655172414 |                   ilymak                   |     1      |02 April 2022, 09:10\n",
      "----------------------------------------------------------------------------------------------------------------------------------\n",
      "|  25  | 0.2220689655172414 |              RockingGreatness              |     8      |02 April 2022, 21:51\n",
      "----------------------------------------------------------------------------------------------------------------------------------\n",
      "|  26  | 0.2220689655172414 |                 NAC_ENGINE                 |     31     |03 April 2022, 11:56\n",
      "----------------------------------------------------------------------------------------------------------------------------------\n",
      "|  27  | 0.2220689655172414 |                 WillPower                  |     1      |04 April 2022, 15:22\n",
      "----------------------------------------------------------------------------------------------------------------------------------\n",
      "|  28  | 0.2220689655172414 |                josh_salako                 |     6      |05 April 2022, 21:37\n",
      "----------------------------------------------------------------------------------------------------------------------------------\n",
      "|  29  | 0.2220689655172414 |                 Bett_Ayub                  |     4      |06 April 2022, 17:23\n",
      "----------------------------------------------------------------------------------------------------------------------------------\n",
      "|  30  | 0.2220689655172414 |                 victornta                  |     7      |06 April 2022, 18:43\n",
      "----------------------------------------------------------------------------------------------------------------------------------\n",
      "|  31  | 0.2220689655172414 |                sheDeveloper                |     12     |07 April 2022, 23:44\n",
      "----------------------------------------------------------------------------------------------------------------------------------\n",
      "|  32  | 0.2220689655172414 |                   Phary                    |     17     |08 April 2022, 00:02\n",
      "----------------------------------------------------------------------------------------------------------------------------------\n",
      "|  33  | 0.2220689655172414 |                 Ebiendele                  |     10     |11 April 2022, 05:51\n",
      "----------------------------------------------------------------------------------------------------------------------------------\n",
      "|  34  | 0.2220689655172414 |                 ndri_menan                 |     3      |11 April 2022, 10:57\n",
      "----------------------------------------------------------------------------------------------------------------------------------\n",
      "|  35  | 0.2220689655172414 |                 zanderous                  |     18     |11 April 2022, 17:59\n",
      "----------------------------------------------------------------------------------------------------------------------------------\n",
      "|  36  | 0.2220689655172414 |                  TigerAi                   |     8      |11 April 2022, 20:26\n",
      "----------------------------------------------------------------------------------------------------------------------------------\n",
      "|  37  | 0.2220689655172414 |                 devopcont                  |     8      |12 April 2022, 18:26\n",
      "----------------------------------------------------------------------------------------------------------------------------------\n",
      "|  38  | 0.2220689655172414 |                  Ap_star                   |     6      |14 April 2022, 17:56\n",
      "----------------------------------------------------------------------------------------------------------------------------------\n",
      "|  39  | 0.2220689655172414 |                   BooZie                   |     10     |15 April 2022, 08:36\n",
      "----------------------------------------------------------------------------------------------------------------------------------\n",
      "|  40  | 0.2220689655172414 |                   Ndege1                   |     14     |15 April 2022, 17:59\n",
      "----------------------------------------------------------------------------------------------------------------------------------\n",
      "|  41  | 0.2220689655172414 |                   yakyo                    |     24     |16 April 2022, 13:14\n",
      "----------------------------------------------------------------------------------------------------------------------------------\n",
      "|  42  | 0.2220689655172414 |               CRASHOVERRIDE                |     10     |16 April 2022, 19:42\n",
      "----------------------------------------------------------------------------------------------------------------------------------\n",
      "|  43  | 0.2220689655172414 |                   Matana                   |     7      |16 April 2022, 22:40\n",
      "----------------------------------------------------------------------------------------------------------------------------------\n",
      "|  44  | 0.2282758620689655 |                    Temu                    |     1      |22 March 2022, 14:26\n",
      "----------------------------------------------------------------------------------------------------------------------------------\n",
      "|  45  | 0.2282758620689655 |                   4mula                    |     2      |31 March 2022, 15:07\n",
      "----------------------------------------------------------------------------------------------------------------------------------\n",
      "|  46  | 0.2344827586206897 |                  JoeSalt                   |     1      |04 April 2022, 16:57\n",
      "----------------------------------------------------------------------------------------------------------------------------------\n",
      "|  47  | 0.2372413793103448 |                  Saleh765                  |     5      |15 April 2022, 12:28\n",
      "----------------------------------------------------------------------------------------------------------------------------------\n",
      "|  48  | 0.2455172413793104 |              mayor_of_geology              |     5      |28 March 2022, 02:40\n",
      "----------------------------------------------------------------------------------------------------------------------------------\n",
      "|  49  | 0.2606896551724138 |                  Koleshjr                  |     19     |16 April 2022, 18:15\n",
      "----------------------------------------------------------------------------------------------------------------------------------\n",
      "|  50  | 0.2944827586206897 |                  HillerMe                  |     1      |16 March 2022, 18:25\n",
      "----------------------------------------------------------------------------------------------------------------------------------\n",
      "|  51  | 0.2944827586206897 |                  Gikunju                   |     1      |19 March 2022, 14:35\n",
      "----------------------------------------------------------------------------------------------------------------------------------\n",
      "|  52  | 0.4724137931034483 |                dolajyd_005                 |     1      |07 April 2022, 00:35\n",
      "----------------------------------------------------------------------------------------------------------------------------------\n",
      "|  53  | 0.7482758620689656 |                   nkybz                    |     3      |14 April 2022, 06:00\n",
      "----------------------------------------------------------------------------------------------------------------------------------\n",
      "|  54  | 0.7779310344827586 |                  Fulansi                   |     2      |15 April 2022, 11:08\n",
      "__________________________________________________________________________________________________________________________________\n",
      "\n",
      "\n"
     ]
    }
   ],
   "source": [
    "user.leaderboard()"
   ]
  },
  {
   "cell_type": "code",
   "execution_count": 9,
   "metadata": {},
   "outputs": [
    {
     "name": "stdout",
     "output_type": "stream",
     "text": [
      "\n",
      "[ 🟢 ] You are not yet on the leaderboad of loan-default-prediction-challenge challenge, Go on...\n",
      "\n"
     ]
    },
    {
     "data": {
      "text/plain": [
       "0"
      ]
     },
     "execution_count": 9,
     "metadata": {},
     "output_type": "execute_result"
    }
   ],
   "source": [
    "user.my_rank"
   ]
  },
  {
   "cell_type": "code",
   "execution_count": 10,
   "metadata": {},
   "outputs": [
    {
     "ename": "Exception",
     "evalue": "\n[ 🔴 ] Teams are not allowed in this competition.\n",
     "output_type": "error",
     "traceback": [
      "\u001b[1;31m---------------------------------------------------------------------------\u001b[0m",
      "\u001b[1;31mException\u001b[0m                                 Traceback (most recent call last)",
      "\u001b[1;32m~\\AppData\\Local\\Temp/ipykernel_376/2311667375.py\u001b[0m in \u001b[0;36m<module>\u001b[1;34m\u001b[0m\n\u001b[1;32m----> 1\u001b[1;33m \u001b[0muser\u001b[0m\u001b[1;33m.\u001b[0m\u001b[0mcreate_team\u001b[0m\u001b[1;33m(\u001b[0m\u001b[0mteam_name\u001b[0m \u001b[1;33m=\u001b[0m\u001b[1;34m'team to test the zindi package'\u001b[0m \u001b[1;33m,\u001b[0m \u001b[0mteammates\u001b[0m\u001b[1;33m=\u001b[0m\u001b[1;33m[\u001b[0m\u001b[1;34m'I_am_Zeus_AI'\u001b[0m\u001b[1;33m,\u001b[0m \u001b[1;34m'Muhamed_Tuo'\u001b[0m\u001b[1;33m]\u001b[0m\u001b[1;33m)\u001b[0m\u001b[1;33m\u001b[0m\u001b[1;33m\u001b[0m\u001b[0m\n\u001b[0m",
      "\u001b[1;32mc:\\Users\\emman\\Documents\\Github\\testing-zindi-package\\tests\\..\\zindi\\user.py\u001b[0m in \u001b[0;36mcreate_team\u001b[1;34m(self, team_name, teammates)\u001b[0m\n\u001b[0;32m    428\u001b[0m \u001b[1;33m\u001b[0m\u001b[0m\n\u001b[0;32m    429\u001b[0m                 \u001b[0merror_msg\u001b[0m \u001b[1;33m=\u001b[0m \u001b[1;34mf\"\\n[ 🔴 ] {response['errors']['base']}\\n\"\u001b[0m\u001b[1;33m\u001b[0m\u001b[1;33m\u001b[0m\u001b[0m\n\u001b[1;32m--> 430\u001b[1;33m                 \u001b[1;32mraise\u001b[0m \u001b[0mException\u001b[0m\u001b[1;33m(\u001b[0m\u001b[0merror_msg\u001b[0m\u001b[1;33m)\u001b[0m\u001b[1;33m\u001b[0m\u001b[1;33m\u001b[0m\u001b[0m\n\u001b[0m\u001b[0;32m    431\u001b[0m             \u001b[1;32melse\u001b[0m\u001b[1;33m:\u001b[0m\u001b[1;33m\u001b[0m\u001b[1;33m\u001b[0m\u001b[0m\n\u001b[0;32m    432\u001b[0m                 if (\"errors\" in response) and (\n",
      "\u001b[1;31mException\u001b[0m: \n[ 🔴 ] Teams are not allowed in this competition.\n"
     ]
    }
   ],
   "source": [
    "user.create_team(team_name ='team to test the zindi package' , teammates=['I_am_Zeus_AI', 'Muhamed_Tuo'])"
   ]
  },
  {
   "cell_type": "code",
   "execution_count": null,
   "metadata": {},
   "outputs": [
    {
     "name": "stderr",
     "output_type": "stream",
     "text": [
      "Submit ./dataset/SampleSubmission.csv:   0%|                            | 0.00/51.3k [00:00<?, ?o/s]\n"
     ]
    },
    {
     "ename": "TypeError",
     "evalue": "'MultipartEncoderMonitor' object is not a mapping",
     "output_type": "error",
     "traceback": [
      "\u001b[1;31m---------------------------------------------------------------------------\u001b[0m",
      "\u001b[1;31mTypeError\u001b[0m                                 Traceback (most recent call last)",
      "\u001b[1;32m~\\AppData\\Local\\Temp/ipykernel_432/4147552881.py\u001b[0m in \u001b[0;36m<module>\u001b[1;34m\u001b[0m\n\u001b[1;32m----> 1\u001b[1;33m \u001b[0muser\u001b[0m\u001b[1;33m.\u001b[0m\u001b[0msubmit\u001b[0m\u001b[1;33m(\u001b[0m\u001b[0mfilepaths\u001b[0m\u001b[1;33m=\u001b[0m\u001b[1;33m[\u001b[0m\u001b[1;34m'./dataset/SampleSubmission.csv'\u001b[0m\u001b[1;33m]\u001b[0m\u001b[1;33m,\u001b[0m \u001b[0mcomments\u001b[0m\u001b[1;33m=\u001b[0m\u001b[1;33m[\u001b[0m\u001b[1;34m'submission test made with the package'\u001b[0m\u001b[1;33m]\u001b[0m\u001b[1;33m)\u001b[0m\u001b[1;33m\u001b[0m\u001b[1;33m\u001b[0m\u001b[0m\n\u001b[0m",
      "\u001b[1;32mc:\\Users\\emman\\Documents\\Github\\testing-zindi-package\\tests\\..\\zindi\\user.py\u001b[0m in \u001b[0;36msubmit\u001b[1;34m(self, filepaths, comments)\u001b[0m\n\u001b[0;32m    299\u001b[0m                     \u001b[1;32mif\u001b[0m \u001b[0mos\u001b[0m\u001b[1;33m.\u001b[0m\u001b[0mpath\u001b[0m\u001b[1;33m.\u001b[0m\u001b[0misfile\u001b[0m\u001b[1;33m(\u001b[0m\u001b[0mfilepath\u001b[0m\u001b[1;33m)\u001b[0m\u001b[1;33m:\u001b[0m\u001b[1;33m\u001b[0m\u001b[1;33m\u001b[0m\u001b[0m\n\u001b[0;32m    300\u001b[0m                         \u001b[1;31m# print(f\"[INFO] Submiting file : {filepath} , wait ...\")\u001b[0m\u001b[1;33m\u001b[0m\u001b[1;33m\u001b[0m\u001b[0m\n\u001b[1;32m--> 301\u001b[1;33m                         response = upload(\n\u001b[0m\u001b[0;32m    302\u001b[0m                             \u001b[0mfilepath\u001b[0m\u001b[1;33m=\u001b[0m\u001b[0mfilepath\u001b[0m\u001b[1;33m,\u001b[0m\u001b[1;33m\u001b[0m\u001b[1;33m\u001b[0m\u001b[0m\n\u001b[0;32m    303\u001b[0m                             \u001b[0mcomment\u001b[0m\u001b[1;33m=\u001b[0m\u001b[0mcomment\u001b[0m\u001b[1;33m,\u001b[0m\u001b[1;33m\u001b[0m\u001b[1;33m\u001b[0m\u001b[0m\n",
      "\u001b[1;32mc:\\Users\\emman\\Documents\\Github\\testing-zindi-package\\tests\\..\\zindi\\utils.py\u001b[0m in \u001b[0;36mupload\u001b[1;34m(filepath, comment, url, headers)\u001b[0m\n\u001b[0;32m     83\u001b[0m         response = requests.post(\n\u001b[0;32m     84\u001b[0m             \u001b[0murl\u001b[0m\u001b[1;33m,\u001b[0m\u001b[1;33m\u001b[0m\u001b[1;33m\u001b[0m\u001b[0m\n\u001b[1;32m---> 85\u001b[1;33m             data={\n\u001b[0m\u001b[0;32m     86\u001b[0m                 \u001b[1;34m\"auth_token\"\u001b[0m\u001b[1;33m:\u001b[0m \u001b[0mheaders\u001b[0m\u001b[1;33m[\u001b[0m\u001b[1;34m\"auth_token\"\u001b[0m\u001b[1;33m]\u001b[0m\u001b[1;33m,\u001b[0m\u001b[1;33m\u001b[0m\u001b[1;33m\u001b[0m\u001b[0m\n\u001b[0;32m     87\u001b[0m                 \u001b[1;33m**\u001b[0m\u001b[0mmultipart_monitor\u001b[0m\u001b[1;33m,\u001b[0m\u001b[1;33m\u001b[0m\u001b[1;33m\u001b[0m\u001b[0m\n",
      "\u001b[1;31mTypeError\u001b[0m: 'MultipartEncoderMonitor' object is not a mapping"
     ]
    }
   ],
   "source": [
    "user.submit(filepaths=['./dataset/SampleSubmission.csv'], comments=['submission test made with the package'])"
   ]
  },
  {
   "cell_type": "code",
   "execution_count": null,
   "metadata": {},
   "outputs": [
    {
     "ename": "Exception",
     "evalue": "\n[ 🔴 ] {'message': 'not authorized'}\n",
     "output_type": "error",
     "traceback": [
      "\u001b[1;31m---------------------------------------------------------------------------\u001b[0m",
      "\u001b[1;31mException\u001b[0m                                 Traceback (most recent call last)",
      "\u001b[1;32m~\\AppData\\Local\\Temp/ipykernel_17084/3294876604.py\u001b[0m in \u001b[0;36m<module>\u001b[1;34m\u001b[0m\n\u001b[1;32m----> 1\u001b[1;33m \u001b[0muser\u001b[0m\u001b[1;33m.\u001b[0m\u001b[0msubmission_board\u001b[0m\u001b[1;33m(\u001b[0m\u001b[1;33m)\u001b[0m\u001b[1;33m\u001b[0m\u001b[1;33m\u001b[0m\u001b[0m\n\u001b[0m",
      "\u001b[1;32mc:\\Users\\emman\\Documents\\Github\\testing-zindi-package\\tests\\..\\zindi\\user.py\u001b[0m in \u001b[0;36msubmission_board\u001b[1;34m(self, to_print)\u001b[0m\n\u001b[0;32m    390\u001b[0m             \u001b[1;32mif\u001b[0m \u001b[1;34m\"errors\"\u001b[0m \u001b[1;32min\u001b[0m \u001b[0mresponse\u001b[0m\u001b[1;33m:\u001b[0m\u001b[1;33m\u001b[0m\u001b[1;33m\u001b[0m\u001b[0m\n\u001b[0;32m    391\u001b[0m                 \u001b[0merror_msg\u001b[0m \u001b[1;33m=\u001b[0m \u001b[1;34mf\"\\n[ 🔴 ] {response['errors']}\\n\"\u001b[0m\u001b[1;33m\u001b[0m\u001b[1;33m\u001b[0m\u001b[0m\n\u001b[1;32m--> 392\u001b[1;33m                 \u001b[1;32mraise\u001b[0m \u001b[0mException\u001b[0m\u001b[1;33m(\u001b[0m\u001b[0merror_msg\u001b[0m\u001b[1;33m)\u001b[0m\u001b[1;33m\u001b[0m\u001b[1;33m\u001b[0m\u001b[0m\n\u001b[0m\u001b[0;32m    393\u001b[0m             \u001b[1;32melse\u001b[0m\u001b[1;33m:\u001b[0m\u001b[1;33m\u001b[0m\u001b[1;33m\u001b[0m\u001b[0m\n\u001b[0;32m    394\u001b[0m                 \u001b[0mself\u001b[0m\u001b[1;33m.\u001b[0m\u001b[0m__sb_data\u001b[0m \u001b[1;33m=\u001b[0m \u001b[0mresponse\u001b[0m\u001b[1;33m\u001b[0m\u001b[1;33m\u001b[0m\u001b[0m\n",
      "\u001b[1;31mException\u001b[0m: \n[ 🔴 ] {'message': 'not authorized'}\n"
     ]
    }
   ],
   "source": [
    "user.submission_board()"
   ]
  },
  {
   "cell_type": "markdown",
   "metadata": {},
   "source": [
    "# Join challenge function bug"
   ]
  },
  {
   "cell_type": "code",
   "execution_count": 13,
   "metadata": {},
   "outputs": [],
   "source": [
    "import requests\n",
    "from zindi.utils import get_challenges\n"
   ]
  },
  {
   "cell_type": "code",
   "execution_count": 92,
   "metadata": {},
   "outputs": [
    {
     "data": {
      "text/plain": [
       "<Response [401]>"
      ]
     },
     "execution_count": 92,
     "metadata": {},
     "output_type": "execute_result"
    }
   ],
   "source": [
    "# r002 = requests.post(url=\"https://api.zindi.africa/v1/competitions/turtle-rescue-forecast-challenge/participations\",\n",
    "# data={'auth_token': 'PDfE3nLH7SBb43eRqeQtqcaF'} )\n",
    "# r002"
   ]
  },
  {
   "cell_type": "code",
   "execution_count": null,
   "metadata": {},
   "outputs": [],
   "source": [
    "\n",
    "## FOR TEST\n",
    "USERNAME, PASSWORD = \"test-000000X\", \"test-000000X\"\n",
    "user = Zindian(username=USERNAME, fixed_password=PASSWORD)\n",
    "\n",
    "# user.which_challenge\n",
    "\n",
    "user.select_a_challenge(fixed_index=3) # reward=\"knowledge\" , \n",
    "\n",
    "user.which_challenge\n",
    "\n",
    "# user.leaderboard()\n",
    "\n",
    "user.my_rank\n",
    "user.create_team(team_name ='My team' , teammates=['I_am_Zeus_AI', 'Muhamed_Tuo'])\n",
    "\n",
    "# user.download_dataset(destination=\"tests/dataset\")\n",
    "\n",
    "# user.submit(filepaths=['tests/dataset/SampleSubmission.csv'], comments=['submission test'])\n",
    "\n",
    "# user.submission_board()\n",
    "\n",
    "# user.create_team(team_name=\"New Team\")"
   ]
  }
 ],
 "metadata": {
  "interpreter": {
   "hash": "307b05f99795aaab86f3ce0c3d4972faa744fdea8c310e7b8388015a86dce85b"
  },
  "kernelspec": {
   "display_name": "Python 3.9.7 ('base')",
   "language": "python",
   "name": "python3"
  },
  "language_info": {
   "codemirror_mode": {
    "name": "ipython",
    "version": 3
   },
   "file_extension": ".py",
   "mimetype": "text/x-python",
   "name": "python",
   "nbconvert_exporter": "python",
   "pygments_lexer": "ipython3",
   "version": "3.9.7"
  },
  "orig_nbformat": 4
 },
 "nbformat": 4,
 "nbformat_minor": 2
}
